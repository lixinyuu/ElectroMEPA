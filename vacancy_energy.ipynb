{
 "cells": [
  {
   "cell_type": "code",
   "execution_count": 1,
   "id": "84cc9036-eaf6-4960-abed-648719e3dc70",
   "metadata": {},
   "outputs": [],
   "source": [
    "import sys\n",
    "import os\n",
    "sys.path.insert(0, os.getcwd())"
   ]
  },
  {
   "cell_type": "code",
   "execution_count": 2,
   "id": "b5fa03a7-7057-4ee2-9aad-37e8edbab9a4",
   "metadata": {},
   "outputs": [],
   "source": [
    "import re\n",
    "import ase\n",
    "import pickle\n",
    "\n",
    "import numpy as np\n",
    "import pandas as pd\n",
    "\n",
    "from pathlib import Path\n",
    "from copy import deepcopy\n",
    "from ase.io import read, write\n",
    "from ase.visualize import view\n",
    "from ase.data import atomic_numbers\n",
    "from ase.geometry import find_mic\n",
    "\n",
    "from atoms_operators import fingerprint_adslab\n",
    "from gaspymongo import make_initial_atoms_from_doc, make_atoms_from_doc\n",
    "from matplotlib import pyplot as plt\n",
    "\n",
    "from sklearn.kernel_ridge import KernelRidge\n",
    "np.random.seed(2)"
   ]
  },
  {
   "cell_type": "code",
   "execution_count": 3,
   "id": "43fa1dcd-4505-4794-87d5-d6e4c8ce5173",
   "metadata": {},
   "outputs": [],
   "source": [
    "with open(\"data/vacancy_1024.pkl\", 'rb') as fp:\n",
    "    docs = pickle.load(fp)\n",
    "all_atoms = [make_atoms_from_doc(n) for n in docs]"
   ]
  },
  {
   "cell_type": "code",
   "execution_count": 4,
   "id": "ff7d02f3-c0ad-4f75-b9eb-6559133b06b1",
   "metadata": {},
   "outputs": [],
   "source": [
    "# view(all_atoms)"
   ]
  },
  {
   "cell_type": "code",
   "execution_count": 5,
   "id": "3c70f026-d459-43f5-bd77-c86ad518622f",
   "metadata": {},
   "outputs": [],
   "source": [
    "\n",
    "atom_ref_energies = {'Al': 5.798958058888855,\n",
    "                     'Cr': 10.420886314999981,\n",
    "                     'Ti': 9.174196767999948,\n",
    "                     'V': 9.912874512727244}\n",
    "\n",
    "df = pd.DataFrame(np.zeros((len(docs), 4)))\n",
    "df.columns = ['vacancy_energy', 'ref_energy', 'true', 'pred']\n",
    "df['vacancy_energy'] = [n['vacancy_energy'] for n in docs]\n",
    "df['ref_energy'] = [atom_ref_energies[n['vacancy_element']] for n in docs]\n",
    "df['true'] = df['vacancy_energy'] - df['ref_energy'] # standardize the data according to their vacancy element"
   ]
  },
  {
   "cell_type": "code",
   "execution_count": 6,
   "id": "ceadc24f-ed3e-4ad5-8c65-1ac79b276893",
   "metadata": {},
   "outputs": [],
   "source": [
    "from dscribe.descriptors import SOAP\n",
    "\n",
    "species = [13, 22, 23, 24]\n",
    "r_cut = 6.0\n",
    "n_max = 7\n",
    "l_max = 7\n",
    "\n",
    "# Setting up the SOAP descriptor\n",
    "soap = SOAP(\n",
    "    species=species,\n",
    "    periodic=True,\n",
    "    r_cut=r_cut,\n",
    "    n_max=n_max,\n",
    "    l_max=l_max,\n",
    "    average=\"inner\",\n",
    ")"
   ]
  },
  {
   "cell_type": "code",
   "execution_count": 7,
   "id": "6ae7488f-fdd1-4b19-be8f-4fd213dba074",
   "metadata": {},
   "outputs": [],
   "source": [
    "# Generate SOAP descriptors for the top layer of atoms\n",
    "X = []\n",
    "for idx, data in df.iterrows():\n",
    "    atoms = all_atoms[idx]\n",
    "    X.append(soap.create(atoms, np.argsort(atoms.positions[:, -1])[-15:])) "
   ]
  },
  {
   "cell_type": "code",
   "execution_count": 8,
   "id": "7d1a31e2-163d-4bab-9528-7470e8cacc4e",
   "metadata": {},
   "outputs": [
    {
     "name": "stdout",
     "output_type": "stream",
     "text": [
      "0.19014699882218986\n"
     ]
    },
    {
     "data": {
      "image/png": "[encoded data removed]",
      "text/plain": [
       "<Figure size 432x288 with 1 Axes>"
      ]
     },
     "metadata": {
      "needs_background": "light"
     },
     "output_type": "display_data"
    }
   ],
   "source": [
    "# ML cross validation\n",
    "from sklearn.model_selection import KFold\n",
    "X_all = np.array(X)\n",
    "y = df['true'].values\n",
    "kf = KFold(n_splits=5, shuffle=True)\n",
    "\n",
    "for i, (train_index, test_index) in enumerate(kf.split(X)):\n",
    "    X_train = X_all[train_index]\n",
    "    y_train = y[train_index]\n",
    "    _X_test = X_all[test_index]\n",
    "    _y_test = y[test_index]\n",
    "    krr = KernelRidge(alpha=0.0001, gamma=1.1920928955078125e-07, kernel='rbf')\n",
    "    krr.fit(X_train, y_train)\n",
    "    y_pred = krr.predict(_X_test)\n",
    "    df.loc[test_index, 'pred'] = y_pred\n",
    "    \n",
    "print((df['pred'] - df['true']).abs().mean())\n",
    "df['true'] += df['ref_energy'] - 8.1046 # reverse standardize and add the universal correction\n",
    "df['pred'] += df['ref_energy'] - 8.1046 \n",
    "plt.scatter(df['true'], df['pred'])\n",
    "plt.show()"
   ]
  },
  {
   "cell_type": "code",
   "execution_count": null,
   "id": "8be3ea3c",
   "metadata": {},
   "outputs": [],
   "source": []
  }
 ],
 "metadata": {
  "kernelspec": {
   "display_name": "conda jodie",
   "language": "python",
   "name": "jodie"
  },
  "language_info": {
   "codemirror_mode": {
    "name": "ipython",
    "version": 3
   },
   "file_extension": ".py",
   "mimetype": "text/x-python",
   "name": "python",
   "nbconvert_exporter": "python",
   "pygments_lexer": "ipython3",
   "version": "3.8.13"
  }
 },
 "nbformat": 4,
 "nbformat_minor": 5
}
