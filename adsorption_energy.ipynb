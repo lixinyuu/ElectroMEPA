{
 "cells": [
  {
   "cell_type": "markdown",
   "id": "981e216a-b371-45b5-8692-ef0c49499414",
   "metadata": {},
   "source": [
    "# The Script used to predict adsorption energies"
   ]
  },
  {
   "cell_type": "code",
   "execution_count": 1,
   "id": "84cc9036-eaf6-4960-abed-648719e3dc70",
   "metadata": {},
   "outputs": [],
   "source": [
    "import sys\n",
    "import os\n",
    "sys.path.insert(0, os.getcwd())"
   ]
  },
  {
   "cell_type": "code",
   "execution_count": 2,
   "id": "3824a977-001f-464f-9341-68b68d2ea041",
   "metadata": {},
   "outputs": [],
   "source": [
    "import ase\n",
    "import json\n",
    "import pickle\n",
    "import numpy as np\n",
    "import pandas as pd\n",
    "\n",
    "from copy import deepcopy\n",
    "\n",
    "from pathlib import Path\n",
    "\n",
    "from ase.io import read, write\n",
    "from ase.visualize import view\n",
    "\n",
    "from atoms_operators import fingerprint_adslab\n",
    "from matplotlib import pyplot as plt\n",
    "\n",
    "from sklearn.model_selection import train_test_split, KFold\n",
    "from gaspymongo import make_initial_atoms_from_doc, make_atoms_from_doc\n",
    "from catlearn import coordination_features\n",
    "from catlearn.defaults import elements_number\n",
    "\n",
    "from sklearn.decomposition import PCA\n",
    "from sklearn.preprocessing import StandardScaler\n",
    "from sklearn.metrics import mean_absolute_error, accuracy_score\n",
    "from sklearn.kernel_ridge import KernelRidge\n",
    "from sklearn.pipeline import Pipeline\n",
    "import random\n",
    "\n",
    "np.random.seed(0)\n",
    "fea = ['lattice_constant',  'melting_point', 'boiling_point', 'median_energy_H', \n",
    "       'median_energy_N', 'median_energy_O', 'median_energy_S','median_energy_C', 'group_id', 'count']\n",
    "elements_list = [\"Al\",   \"Cr\",   \"Ti\",    \"V\"]   "
   ]
  },
  {
   "cell_type": "markdown",
   "id": "fe6911ba-5830-406f-b6f6-6cb8d6698bdd",
   "metadata": {},
   "source": [
    "## Generate SOAP descriptors for slab"
   ]
  },
  {
   "cell_type": "code",
   "execution_count": 3,
   "id": "f2748b6e-99e7-4d48-b97a-24af2d7875e3",
   "metadata": {},
   "outputs": [],
   "source": [
    "from dscribe.descriptors import SOAP\n",
    "\n",
    "species = elements_list\n",
    "r_cut = 6.0\n",
    "n_max = 8\n",
    "l_max = 8\n",
    "\n",
    "# Setting up the SOAP descriptor\n",
    "soap = SOAP(\n",
    "    species=species,\n",
    "    periodic=True,\n",
    "    r_cut=r_cut,\n",
    "    n_max=n_max,\n",
    "    l_max=l_max,\n",
    "    average=\"inner\",\n",
    ")"
   ]
  },
  {
   "cell_type": "code",
   "execution_count": 4,
   "id": "5eac84d4-a5a2-4654-89f2-e9af5a634885",
   "metadata": {},
   "outputs": [
    {
     "data": {
      "text/plain": [
       "array([[2.35301194e-04, 2.33368904e-03, 9.15088434e-04, ...,\n",
       "        2.16568478e-02, 6.00000000e+00, 3.60000000e+01],\n",
       "       [2.43135564e-04, 2.54276127e-03, 7.85225470e-04, ...,\n",
       "        2.22984803e-02, 7.00000000e+00, 4.90000000e+01],\n",
       "       [1.41974321e-04, 1.68833256e-03, 1.57027788e-04, ...,\n",
       "        2.02442695e-02, 8.00000000e+00, 6.40000000e+01],\n",
       "       [2.36652761e-04, 2.34390432e-03, 9.26477184e-04, ...,\n",
       "        2.23698575e-02, 6.00000000e+00, 3.60000000e+01],\n",
       "       [2.36859707e-04, 2.49570720e-03, 7.23363521e-04, ...,\n",
       "        1.93191546e-02, 7.00000000e+00, 4.90000000e+01],\n",
       "       [1.36027391e-04, 1.63900510e-03, 1.05759802e-04, ...,\n",
       "        1.95369665e-02, 8.00000000e+00, 6.40000000e+01]])"
      ]
     },
     "execution_count": 4,
     "metadata": {},
     "output_type": "execute_result"
    }
   ],
   "source": [
    "p = Path(\"./data\")\n",
    "slab = [read(Path(p, \"clean_slab\", f\"CONTCAR_A_{i}\"),  format='vasp') for i in range(6, 9)]\n",
    "slab += [read(Path(p, \"clean_slab\", f\"CONTCAR_B_{i}\"),  format='vasp') for i in range(6, 9)]\n",
    "x_slab = np.array([soap.create(n) for n in slab])\n",
    "x_number_layer = np.array([[6., 36.], [7., 49.], [8, 64.], [6., 36.],[7., 49.], [8, 64.]])\n",
    "x_slab = np.concatenate((x_slab, x_number_layer), axis = 1)\n",
    "x_slab"
   ]
  },
  {
   "cell_type": "code",
   "execution_count": 5,
   "id": "24e93d9e-d770-4adb-b4ab-c94f5860a0dd",
   "metadata": {},
   "outputs": [],
   "source": [
    "from sklearn.feature_selection import VarianceThreshold\n",
    "constant_filter = VarianceThreshold(threshold=20)\n",
    "x_slab = constant_filter.fit_transform(x_slab)\n",
    "pca1 = PCA(n_components=4, svd_solver='full')\n",
    "x_slab = pca1.fit_transform(x_slab)\n",
    "x_slab_dict = {slab:x_slab[idx] for idx, slab in enumerate(['A_6', 'A_7', 'A_8', 'B_6', 'B_7', 'B_8'])}"
   ]
  },
  {
   "cell_type": "code",
   "execution_count": 6,
   "id": "fd16df41-f067-483e-b6e4-f720b14e55d0",
   "metadata": {},
   "outputs": [
    {
     "data": {
      "image/png": "[encoded data removed]",
      "text/plain": [
       "<Figure size 432x288 with 1 Axes>"
      ]
     },
     "metadata": {
      "needs_background": "light"
     },
     "output_type": "display_data"
    }
   ],
   "source": [
    "for idx, i in enumerate(['A_6', 'A_7', 'A_8', 'B_6', 'B_7', 'B_8']):\n",
    "    plt.plot(np.array(x_slab)[idx], label = i)\n",
    "plt.legend()\n",
    "plt.show()"
   ]
  },
  {
   "cell_type": "markdown",
   "id": "6f7900ef-1fe5-45f0-87d2-055bb1a7daf4",
   "metadata": {},
   "source": [
    "## Generate Adsorbate representations"
   ]
  },
  {
   "cell_type": "code",
   "execution_count": 7,
   "id": "2c087ff5-f4c8-4c5b-bbb1-e1aad71a645b",
   "metadata": {},
   "outputs": [
    {
     "data": {
      "text/plain": [
       "{'H': [0.53, 1.1, 1, 20.28, 14.01, 1, 1],\n",
       " 'O': [0.48, 1.52, 8, 90.2, 54.8, 16, 2],\n",
       " 'Cl': [0.79, 1.75, 17, 239.11, 171.6, 17, 3]}"
      ]
     },
     "execution_count": 7,
     "metadata": {},
     "output_type": "execute_result"
    }
   ],
   "source": [
    "from pymatgen.core.periodic_table import Element\n",
    "ads_fea_dict = {}\n",
    "for ele in ['H', 'O', 'Cl']:\n",
    "    ads_fea_dict[ele] = [getattr(Element(ele), n) for n in ['atomic_radius_calculated', 'van_der_waals_radius', 'Z', 'boiling_point', 'melting_point', 'group', 'row']]\n",
    "ads_fea_dict"
   ]
  },
  {
   "cell_type": "markdown",
   "id": "db3af1fe-4191-459a-8630-d07d0b05f493",
   "metadata": {},
   "source": [
    "## Generate Group and period based coordination atom fingerprint"
   ]
  },
  {
   "cell_type": "code",
   "execution_count": 8,
   "id": "033aef63-819e-495b-835b-8ee68873600c",
   "metadata": {},
   "outputs": [],
   "source": [
    "    \n",
    "db_path = \"data/training_0516.pkl\"\n",
    "with open(db_path, 'rb') as file_handle:\n",
    "     db = pickle.load(file_handle)\n",
    "y = np.array([n['energy'] for n in db])\n",
    "\n",
    "inner_fingerprinter = coordination_features.InnerShellFingerprinter(features = fea,elements = elements_list, adsorbate='O')\n",
    "outer_fingerprinter = coordination_features.NextNearestFingerprinter(features = fea,elements = elements_list, adsorbate='O')\n",
    "caf = coordination_features.StackedFingerprinter(inner_fingerprinter, outer_fingerprinter)\n",
    "\n",
    "X = caf.fit_transform(db)\n",
    "\n",
    "pca_caf = PCA(n_components=20)\n",
    "X  = pca_caf.fit_transform(X)\n",
    "\n",
    "y = np.array([n['energy'] for n in db])\n",
    "num_samples = len(X)\n",
    "num_feats = len(fea)"
   ]
  },
  {
   "cell_type": "markdown",
   "id": "5983f66a-d5f2-430b-81da-7675955dd7d1",
   "metadata": {
    "tags": []
   },
   "source": [
    "## Combine slab, adsorbate and coordination fingerprints"
   ]
  },
  {
   "cell_type": "code",
   "execution_count": 9,
   "id": "40a0fa15-ffd0-4ac5-965c-7e270e49a388",
   "metadata": {},
   "outputs": [],
   "source": [
    "X_slab = np.array([x_slab_dict[n['slab']] for n in db])\n",
    "X_ads = np.array([ads_fea_dict[n['adsorbate']] for n in db])\n",
    "X_all = np.hstack((X, X_slab, X_ads))\n",
    "X_all = StandardScaler().fit_transform(X_all)"
   ]
  },
  {
   "cell_type": "code",
   "execution_count": null,
   "id": "8640bc70-e62c-44fc-99c5-28b3ad890fe1",
   "metadata": {},
   "outputs": [],
   "source": []
  },
  {
   "cell_type": "code",
   "execution_count": 10,
   "id": "97e9b11f-04b3-4dec-be3f-705f92b7aa81",
   "metadata": {},
   "outputs": [
    {
     "data": {
      "image/png": "[encoded data removed]",
      "text/plain": [
       "<Figure size 432x288 with 1 Axes>"
      ]
     },
     "metadata": {
      "needs_background": "light"
     },
     "output_type": "display_data"
    },
    {
     "name": "stdout",
     "output_type": "stream",
     "text": [
      "0.1908822722110246\n"
     ]
    }
   ],
   "source": [
    "df = pd.DataFrame(np.zeros((len(X_all), 2)))\n",
    "df.columns = ['true', 'pred']\n",
    "kf = KFold(n_splits=5, shuffle=True)\n",
    "\n",
    "for i, (train_index, test_index) in enumerate(kf.split(X)):\n",
    "    X_train = X_all[train_index]\n",
    "    y_train = y[train_index]\n",
    "    X_test = X_all[test_index]\n",
    "    y_test = y[test_index]\n",
    "    krr = KernelRidge(alpha=0.01, gamma=0.03125, kernel='rbf')\n",
    "    krr.fit(X_train, y_train)\n",
    "    y_pred = krr.predict(X_test)\n",
    "    df.loc[test_index, 'pred'] = y_pred\n",
    "    df.loc[test_index, 'true'] = y_test\n",
    "\n",
    "plt.scatter(df['true'], df['pred'])\n",
    "plt.show()\n",
    "print((df['true'] - df['pred'] ).abs().mean())"
   ]
  },
  {
   "cell_type": "code",
   "execution_count": null,
   "id": "164a44c1-45f1-468c-8840-2d0918b99628",
   "metadata": {},
   "outputs": [],
   "source": []
  }
 ],
 "metadata": {
  "kernelspec": {
   "display_name": "conda jodie",
   "language": "python",
   "name": "jodie"
  },
  "language_info": {
   "codemirror_mode": {
    "name": "ipython",
    "version": 3
   },
   "file_extension": ".py",
   "mimetype": "text/x-python",
   "name": "python",
   "nbconvert_exporter": "python",
   "pygments_lexer": "ipython3",
   "version": "3.8.13"
  }
 },
 "nbformat": 4,
 "nbformat_minor": 5
}
